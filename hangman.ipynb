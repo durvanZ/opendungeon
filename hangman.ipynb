{
 "metadata": {
  "language_info": {
   "codemirror_mode": {
    "name": "ipython",
    "version": 3
   },
   "file_extension": ".py",
   "mimetype": "text/x-python",
   "name": "python",
   "nbconvert_exporter": "python",
   "pygments_lexer": "ipython3",
   "version": "3.8.3-final"
  },
  "orig_nbformat": 2,
  "kernelspec": {
   "name": "python3",
   "display_name": "Python 3"
  }
 },
 "nbformat": 4,
 "nbformat_minor": 2,
 "cells": [
  {
   "cell_type": "code",
   "execution_count": 10,
   "metadata": {},
   "outputs": [],
   "source": [
    "class Hangman:\n",
    "    def __init__(self) :\n",
    "\n",
    "        def random_word(difficulty) :\n",
    "            if difficulty == \"easy\" : print()\n",
    "            if difficulty == \"medium\" : print()\n",
    "            if difficulty == \"hard\" :print ()\n",
    "\n",
    "        def run(word) :\n",
    "            word = word\n",
    "            l = len(word)\n",
    "            if l <7 : max = 8\n",
    "            if l >7 : max = 13\n",
    "    \n",
    "            for n in range(max) :\n",
    "                revealed = []\n",
    "                for character in word : \n",
    "                    for i in revealed :\n",
    "                        if c==word[i] :\n",
    "                            print(c)\n",
    "                            break\n",
    "                        else :\n",
    "                            print(\"_ \")\n",
    "                user_input = input(\"Enter your guess\")\n",
    "                counter = 0\n",
    "\n",
    "                for character in word :\n",
    "                    if (user_input.lower() == character.lower()) :\n",
    "                        revealed.append[counter]\n",
    "\n",
    "                        counter = counter+1\n",
    "\n",
    "\n",
    "        \n",
    "    "
   ]
  },
  {
   "cell_type": "code",
   "execution_count": 16,
   "metadata": {},
   "outputs": [
    {
     "output_type": "error",
     "ename": "TypeError",
     "evalue": "'builtin_function_or_method' object is not subscriptable",
     "traceback": [
      "\u001b[1;31m---------------------------------------------------------------------------\u001b[0m",
      "\u001b[1;31mTypeError\u001b[0m                                 Traceback (most recent call last)",
      "\u001b[1;32m<ipython-input-16-aa0becb48ee6>\u001b[0m in \u001b[0;36m<module>\u001b[1;34m\u001b[0m\n\u001b[0;32m     18\u001b[0m     \u001b[1;32mfor\u001b[0m \u001b[0mcharacter\u001b[0m \u001b[1;32min\u001b[0m \u001b[0mword\u001b[0m \u001b[1;33m:\u001b[0m\u001b[1;33m\u001b[0m\u001b[1;33m\u001b[0m\u001b[0m\n\u001b[0;32m     19\u001b[0m         \u001b[1;32mif\u001b[0m \u001b[1;33m(\u001b[0m\u001b[0muser_input\u001b[0m\u001b[1;33m.\u001b[0m\u001b[0mlower\u001b[0m\u001b[1;33m(\u001b[0m\u001b[1;33m)\u001b[0m \u001b[1;33m==\u001b[0m \u001b[0mcharacter\u001b[0m\u001b[1;33m.\u001b[0m\u001b[0mlower\u001b[0m\u001b[1;33m(\u001b[0m\u001b[1;33m)\u001b[0m\u001b[1;33m)\u001b[0m \u001b[1;33m:\u001b[0m\u001b[1;33m\u001b[0m\u001b[1;33m\u001b[0m\u001b[0m\n\u001b[1;32m---> 20\u001b[1;33m             \u001b[0mrevealed\u001b[0m\u001b[1;33m.\u001b[0m\u001b[0mappend\u001b[0m\u001b[1;33m[\u001b[0m\u001b[0mcounter\u001b[0m\u001b[1;33m]\u001b[0m\u001b[1;33m\u001b[0m\u001b[1;33m\u001b[0m\u001b[0m\n\u001b[0m\u001b[0;32m     21\u001b[0m \u001b[1;33m\u001b[0m\u001b[0m\n\u001b[0;32m     22\u001b[0m         \u001b[0mcounter\u001b[0m \u001b[1;33m=\u001b[0m \u001b[0mcounter\u001b[0m\u001b[1;33m+\u001b[0m\u001b[1;36m1\u001b[0m\u001b[1;33m\u001b[0m\u001b[1;33m\u001b[0m\u001b[0m\n",
      "\u001b[1;31mTypeError\u001b[0m: 'builtin_function_or_method' object is not subscriptable"
     ]
    }
   ],
   "source": [
    "word = \"worrrd\"\n",
    "l = len(word) \n",
    "if l <7 : max = 8\n",
    "if l >7 : max = 13\n",
    "    \n",
    "for n in range(max) :\n",
    "    revealed = []\n",
    "    for character in word :\n",
    "        for i in revealed :\n",
    "            if c==word[i] :\n",
    "                print(c)\n",
    "                break\n",
    "            else :\n",
    "                print(\"_ \")\n",
    "    user_input = input(\"Enter your guess\")\n",
    "    counter = 0\n",
    "\n",
    "    for character in word :\n",
    "        if (user_input.lower() == character.lower()) :\n",
    "            revealed.append[counter]\n",
    "\n",
    "        counter = counter+1"
   ]
  },
  {
   "cell_type": "code",
   "execution_count": null,
   "metadata": {},
   "outputs": [],
   "source": []
  }
 ]
}
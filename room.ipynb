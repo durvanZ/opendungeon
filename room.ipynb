{
 "metadata": {
  "language_info": {
   "codemirror_mode": {
    "name": "ipython",
    "version": 3
   },
   "file_extension": ".py",
   "mimetype": "text/x-python",
   "name": "python",
   "nbconvert_exporter": "python",
   "pygments_lexer": "ipython3",
   "version": 3
  },
  "orig_nbformat": 2
 },
 "nbformat": 4,
 "nbformat_minor": 2,
 "cells": [
  {
   "cell_type": "code",
   "execution_count": null,
   "metadata": {},
   "outputs": [],
   "source": [
    "class Room:\n",
    "    def __init__(self, id)\n",
    "    self.id = id\n",
    "\n",
    "    def open():\n",
    "        room_graphics()\n",
    "        room_ambience()\n",
    "        print(\"you have entered room {0}\".format(id))\n",
    "        narrator()\n",
    "        show_options()\n",
    "         \n",
    "\n",
    "    def show_options(listOfOptions):\n",
    "        print(\"press: \")\n",
    "        for option in listOfOptions :\n",
    "            print(\"a. {0}\".format(option))\n",
    "    \n",
    "    def exit()\n",
    "\n",
    "    def move_to()\n",
    "\n",
    "    def narrator()\n",
    "    if :\n",
    "    if :\n",
    "    if :\n",
    "    else :\n",
    "\n",
    "    def room_ambience()\n",
    "\n",
    "    def room_graphics()\n",
    "\n"
   ]
  }
 ]
}
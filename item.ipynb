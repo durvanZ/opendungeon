{
 "metadata": {
  "language_info": {
   "codemirror_mode": {
    "name": "ipython",
    "version": 3
   },
   "file_extension": ".py",
   "mimetype": "text/x-python",
   "name": "python",
   "nbconvert_exporter": "python",
   "pygments_lexer": "ipython3",
   "version": 3
  },
  "orig_nbformat": 2
 },
 "nbformat": 4,
 "nbformat_minor": 2,
 "cells": [
  {
   "cell_type": "code",
   "execution_count": null,
   "metadata": {},
   "outputs": [],
   "source": [
    "class item :\n",
    "    def __init__(self, id) :\n",
    "        self.id = id\n",
    "        if room.id == 0 : self.options = []\n",
    "           if room.id == 1 : self.options = []\n",
    "        if room.id == 2 : self.options = []\n",
    "        if room.id == 3 : self.options = []\n",
    "        if room.id == 4 : self.options = []\n",
    "        if room.id == 5 : self.options = []\n",
    "        if room.id == 6 : self.options = []\n",
    "        if room.id == 7 : self.options = []\n",
    "        if room.id == 8 : self.options = []\n",
    "        if room.id == 9 : self.options = []\n",
    "        if room.id == 10 : self.options = []\n",
    "        if room.id == 11 : self.options = []\n",
    "        if room.id == 12 : self.options = []\n",
    "        if room.id == 13 : self.options = []\n",
    "      \n",
    "    def glow() :\n",
    "        print(\"you see a .....................\") \n",
    "        room.showOptions(self.options)\n",
    "    def show_puzzle() :\n",
    "        if puzzleId ==  : hangman.run(word)\n",
    "        if puzzleId ==  : cypher.run(word)\n",
    "        if puzzleId ==  : anagram.run(word)\n",
    "        if puzzleId ==  : quiz.run(word)\n",
    "    def open() :\n",
    "    \n",
    "    def read() :\n",
    "    \n",
    "    def inspect() :\n",
    "\n",
    "    def eat() :\n",
    "\n",
    "    def drink() :\n",
    "\n",
    "    def smoke() :\n",
    "\n",
    "    def ignore() :\n",
    "    \n",
    "    \n",
    "    \n"
   ]
  }
 ]
}